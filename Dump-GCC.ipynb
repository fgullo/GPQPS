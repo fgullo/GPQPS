{
 "cells": [
  {
   "cell_type": "code",
   "execution_count": null,
   "id": "ec6c8ef2",
   "metadata": {},
   "outputs": [],
   "source": [
    "import src.summary_utils as summary_utils"
   ]
  },
  {
   "cell_type": "code",
   "execution_count": null,
   "id": "abc17679",
   "metadata": {},
   "outputs": [],
   "source": [
    "facebook = {'file':'data/fb.csv', 'name':'fb', 'isDirected':False, 'isWeighted':False, 'sep':',', 'ks':[350,500,750], 'sweg_summaries':['compressed_fb_300_0.54','compressed_fb_100_0.72','compressed_fb_80_0.18']}\n",
    "lastfm = {'file':'data/lastfm-GCC.csv', 'name':'lastfmGCC', 'isDirected':False, 'isWeighted':False, 'sep':',', 'ks':[500,750,1000], 'sweg_summaries':['compressed_lastfm-GCC_300_0.72','compressed_lastfm-GCC_200_0.36','compressed_lastfm-GCC_80_0.54']}\n",
    "enron = {'file':'data/en-GCC.csv', 'name':'enGCC', 'isDirected':False, 'isWeighted':False, 'sep':',', 'ks':[1000,1500,2000], 'sweg_summaries':['compressed_en-GCC_300_0.9','compressed_en-GCC_100_0.9','compressed_en-GCC_80_0.18']}\n",
    "gnutella = {'file':'data/gnutella.csv', 'name':'gnutella', 'isDirected':True, 'isWeighted':False, 'sep':',', 'ks':[500,750,1000]}\n",
    "ubuntu = {'file':'data/ubuntu.csv', 'name':'ubuntu', 'isDirected':False, 'isWeighted':True, 'sep':',', 'ks':[350,500,750]}\n",
    "#asskitter = {'file':'data/as-skitter.txt', 'name':'as-skitter', 'isDirected':False, 'isWeighted':False, 'sep':' ', 'ks':[1000,10000,25000], 'sweg_summaries':['compressed_as-skitter_100_0.72','compressed_as-skitter_100_0.18','compressed_as-skitter_80_0.18']}\n",
    "\n",
    "#all_datasets_and_parameters = [facebook, lastfm, enron, gnutella, ubuntu, asskitter]\n",
    "all_datasets_and_parameters = [facebook, lastfm, enron, gnutella, ubuntu]"
   ]
  },
  {
   "cell_type": "code",
   "execution_count": null,
   "id": "da89f6e5",
   "metadata": {},
   "outputs": [],
   "source": [
    "for dataset in all_datasets_and_parameters:\n",
    "    input_graph_name = dataset['name']\n",
    "    input_graph_path = dataset['file']\n",
    "    sep = dataset['sep']\n",
    "    \n",
    "    G = summary_utils.load_original_graph(input_graph_path, sep=sep)\n",
    "    GCC = summary_utils.get_largest_cc(G)\n",
    "    \n",
    "    print(input_graph_name, 'nodes: ' + str(G.number_of_nodes()), 'edges: ' + str(G.number_of_edges()), 'nodes GCC: ' + str(GCC.number_of_nodes()), 'edges GCC: ' + str(GCC.number_of_edges()))\n"
   ]
  },
  {
   "cell_type": "code",
   "execution_count": null,
   "id": "df6d2d45",
   "metadata": {},
   "outputs": [],
   "source": [
    "#target_datasets = {'lastfm', 'en', 'gnutella'}\n",
    "target_datasets = {'lastfm'}\n",
    "\n",
    "for dataset in all_datasets_and_parameters:\n",
    "    input_graph_name = dataset['name']\n",
    "    if input_graph_name in target_datasets:\n",
    "        print('dumping ' + input_graph_name)\n",
    "        input_graph_path = dataset['file']\n",
    "        sep = dataset['sep']\n",
    "        weight = 'weight' if dataset['isWeighted'] else None\n",
    "        summary_utils.save_GCC(input_graph_path, sep=sep, w=weight)"
   ]
  },
  {
   "cell_type": "code",
   "execution_count": null,
   "id": "cfb6c125",
   "metadata": {},
   "outputs": [],
   "source": []
  }
 ],
 "metadata": {
  "kernelspec": {
   "display_name": "Python 3 (ipykernel)",
   "language": "python",
   "name": "python3"
  },
  "language_info": {
   "codemirror_mode": {
    "name": "ipython",
    "version": 3
   },
   "file_extension": ".py",
   "mimetype": "text/x-python",
   "name": "python",
   "nbconvert_exporter": "python",
   "pygments_lexer": "ipython3",
   "version": "3.9.17"
  }
 },
 "nbformat": 4,
 "nbformat_minor": 5
}
