{
 "cells": [
  {
   "cell_type": "code",
   "execution_count": null,
   "id": "2d43bc29",
   "metadata": {},
   "outputs": [],
   "source": [
    "import pickle\n",
    "\n",
    "import src.riondato as riondato\n",
    "import src.summary_utils as summary_utils"
   ]
  },
  {
   "cell_type": "code",
   "execution_count": null,
   "id": "86fba371",
   "metadata": {},
   "outputs": [],
   "source": [
    "facebook = {'file':'data/fb.csv', 'name':'fb', 'isDirected':False, 'isWeighted':False, 'sep':',', 'ks':[350,500,750], 'sweg_summaries':['compressed_fb_300_0.54','compressed_fb_100_0.72','compressed_fb_80_0.18']}\n",
    "lastfm = {'file':'data/lastfm-GCC.csv', 'name':'lastfmGCC', 'isDirected':False, 'isWeighted':False, 'sep':',', 'ks':[500,750,1000], 'sweg_summaries':['compressed_lastfm-GCC_300_0.72','compressed_lastfm-GCC_200_0.36','compressed_lastfm-GCC_80_0.54']}\n",
    "enron = {'file':'data/en-GCC.csv', 'name':'enGCC', 'isDirected':False, 'isWeighted':False, 'sep':',', 'ks':[1000,1500,2000], 'sweg_summaries':['compressed_en-GCC_300_0.9','compressed_en-GCC_100_0.9','compressed_en-GCC_80_0.18']}\n",
    "gnutella = {'file':'data/gnutella.csv', 'name':'gnutella', 'isDirected':True, 'isWeighted':False, 'sep':',', 'ks':[500,750,1000]}\n",
    "ubuntu = {'file':'data/ubuntu.csv', 'name':'ubuntu', 'isDirected':False, 'isWeighted':True, 'sep':',', 'ks':[350,500,750]}\n",
    "#asskitter = {'file':'data/as-skitter.txt', 'name':'as-skitter', 'isDirected':False, 'isWeighted':False, 'sep':' ', 'ks':[1000,10000,25000], 'sweg_summaries':['compressed_as-skitter_100_0.72','compressed_as-skitter_100_0.18','compressed_as-skitter_80_0.18']}\n",
    "\n",
    "#all_datasets_and_parameters = [facebook, lastfm, enron, gnutella, ubuntu, asskitter]\n",
    "all_datasets_and_parameters = [facebook, lastfm, enron, gnutella, ubuntu]"
   ]
  },
  {
   "cell_type": "code",
   "execution_count": null,
   "id": "2d8b51d9",
   "metadata": {},
   "outputs": [],
   "source": [
    "seed = 123\n",
    "max_iter = 20"
   ]
  },
  {
   "cell_type": "code",
   "execution_count": null,
   "id": "b978458d",
   "metadata": {},
   "outputs": [],
   "source": [
    "for dataset in all_datasets_and_parameters:\n",
    "    graph_path = dataset['file']\n",
    "    graph_name = dataset['name']\n",
    "    is_directed = dataset['isDirected']\n",
    "    is_weighted = dataset['isWeighted']\n",
    "    sep = dataset['sep']\n",
    "    ks = dataset['ks']\n",
    "    for k in ks:\n",
    "        #summary_path = 'data/' + graph_name + '_summary_S2L_' + str(k) + '.pickle'\n",
    "        summary_path = 'data/' + graph_name + '_summary_S2L_TMP_' + str(k) + '.pickle'\n",
    "        print('GENERATING SUMMARY: ' + summary_path)\n",
    "        summary_utils.dump_summary_S2L(graph_path, summary_path, seed, k, max_iter, is_directed, is_weighted, sep)\n",
    "        print()"
   ]
  },
  {
   "cell_type": "code",
   "execution_count": null,
   "id": "82d58c30",
   "metadata": {},
   "outputs": [],
   "source": []
  }
 ],
 "metadata": {
  "kernelspec": {
   "display_name": "Python 3 (ipykernel)",
   "language": "python",
   "name": "python3"
  },
  "language_info": {
   "codemirror_mode": {
    "name": "ipython",
    "version": 3
   },
   "file_extension": ".py",
   "mimetype": "text/x-python",
   "name": "python",
   "nbconvert_exporter": "python",
   "pygments_lexer": "ipython3",
   "version": "3.9.17"
  }
 },
 "nbformat": 4,
 "nbformat_minor": 5
}
