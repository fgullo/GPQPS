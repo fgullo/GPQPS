{
 "cells": [
  {
   "cell_type": "code",
   "execution_count": null,
   "id": "ec6c8ef2",
   "metadata": {},
   "outputs": [],
   "source": [
    "import src.summary_utils as summary_utils"
   ]
  },
  {
   "cell_type": "code",
   "execution_count": null,
   "id": "7e98931f",
   "metadata": {},
   "outputs": [],
   "source": [
    "input_graph_path = 'data/as-skitter.txt'\n",
    "sep = ' '\n",
    "#k_list = [1000,10000,25000]\n",
    "k_list = [25000]\n",
    "\n",
    "is_directed = False\n",
    "is_weighted = False\n",
    "\n",
    "graph_name = 'as-skitter'"
   ]
  },
  {
   "cell_type": "code",
   "execution_count": null,
   "id": "cad30f58",
   "metadata": {},
   "outputs": [],
   "source": [
    "for k in k_list:\n",
    "    print(k)\n",
    "    riondato_path = 'data/as-skitter_cluster_k{}.txt'.format(k)\n",
    "    summary_path = 'data/' + graph_name + '_summary_S2L_' + str(k) + '.pickle'\n",
    "    \n",
    "    print('GENERATING SUMMARY: ' + summary_path)\n",
    "    summary_utils.dump_summary_S2L_riondato_code(input_graph_path, riondato_path, summary_path, \n",
    "                                                 is_directed, is_weighted, sep)\n",
    "    print()"
   ]
  },
  {
   "cell_type": "code",
   "execution_count": null,
   "id": "73c68232",
   "metadata": {},
   "outputs": [],
   "source": []
  }
 ],
 "metadata": {
  "kernelspec": {
   "display_name": "Python 3 (ipykernel)",
   "language": "python",
   "name": "python3"
  },
  "language_info": {
   "codemirror_mode": {
    "name": "ipython",
    "version": 3
   },
   "file_extension": ".py",
   "mimetype": "text/x-python",
   "name": "python",
   "nbconvert_exporter": "python",
   "pygments_lexer": "ipython3",
   "version": "3.9.17"
  }
 },
 "nbformat": 4,
 "nbformat_minor": 5
}
